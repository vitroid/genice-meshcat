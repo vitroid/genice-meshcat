{
  "nbformat": 4,
  "nbformat_minor": 0,
  "metadata": {
    "colab": {
      "name": "jupyter.ipynb",
      "provenance": [],
      "include_colab_link": true
    },
    "kernelspec": {
      "display_name": "Python 3",
      "language": "python",
      "name": "python3"
    },
    "language_info": {
      "codemirror_mode": {
        "name": "ipython",
        "version": 3
      },
      "file_extension": ".py",
      "mimetype": "text/x-python",
      "name": "python",
      "nbconvert_exporter": "python",
      "pygments_lexer": "ipython3",
      "version": "3.9.2"
    }
  },
  "cells": [
    {
      "cell_type": "markdown",
      "metadata": {
        "id": "view-in-github",
        "colab_type": "text"
      },
      "source": [
        "<a href=\"https://colab.research.google.com/github/vitroid/genice-meshcat/blob/main/jupyter.ipynb\" target=\"_parent\"><img src=\"https://colab.research.google.com/assets/colab-badge.svg\" alt=\"Open In Colab\"/></a>"
      ]
    },
    {
      "cell_type": "code",
      "metadata": {
        "colab": {
          "base_uri": "https://localhost:8080/"
        },
        "id": "N7XHy_u4odaP",
        "outputId": "7fe51016-0fe4-4e15-ed67-5e73d3348be2"
      },
      "source": [
        "! pip install git+https://github.com/vitroid/genice-meshcat.git\n",
        "exit()"
      ],
      "execution_count": 3,
      "outputs": [
        {
          "output_type": "stream",
          "text": [
            "Collecting git+https://github.com/vitroid/genice-meshcat.git\n",
            "  Cloning https://github.com/vitroid/genice-meshcat.git to /tmp/pip-req-build-80nrrkvg\n",
            "  Running command git clone -q https://github.com/vitroid/genice-meshcat.git /tmp/pip-req-build-80nrrkvg\n",
            "Requirement already satisfied (use --upgrade to upgrade): genice2-meshcat==2.1 from git+https://github.com/vitroid/genice-meshcat.git in /usr/local/lib/python3.7/dist-packages\n",
            "Requirement already satisfied: genice2>=2.1b0 in /usr/local/lib/python3.7/dist-packages (from genice2-meshcat==2.1) (2.1b3)\n",
            "Requirement already satisfied: u-msgpack-python in /usr/local/lib/python3.7/dist-packages (from genice2-meshcat==2.1) (2.7.1)\n",
            "Requirement already satisfied: meshcat@ git+https://github.com/RussTedrake/meshcat-python@colab from git+https://github.com/RussTedrake/meshcat-python@colab in /usr/local/lib/python3.7/dist-packages (from genice2-meshcat==2.1) (0.0.18)\n",
            "Requirement already satisfied: numpy in /usr/local/lib/python3.7/dist-packages (from genice2>=2.1b0->genice2-meshcat==2.1) (1.19.5)\n",
            "Requirement already satisfied: wheel in /usr/local/lib/python3.7/dist-packages (from genice2>=2.1b0->genice2-meshcat==2.1) (0.36.2)\n",
            "Requirement already satisfied: networkx>=2 in /usr/local/lib/python3.7/dist-packages (from genice2>=2.1b0->genice2-meshcat==2.1) (2.5)\n",
            "Requirement already satisfied: graphstat in /usr/local/lib/python3.7/dist-packages (from genice2>=2.1b0->genice2-meshcat==2.1) (0.2.1)\n",
            "Requirement already satisfied: cycless in /usr/local/lib/python3.7/dist-packages (from genice2>=2.1b0->genice2-meshcat==2.1) (0.1.4)\n",
            "Requirement already satisfied: pairlist>=0.2.11.1 in /usr/local/lib/python3.7/dist-packages (from genice2>=2.1b0->genice2-meshcat==2.1) (0.2.11.1)\n",
            "Requirement already satisfied: openpyscad in /usr/local/lib/python3.7/dist-packages (from genice2>=2.1b0->genice2-meshcat==2.1) (0.4.0)\n",
            "Requirement already satisfied: yaplotlib>=0.1 in /usr/local/lib/python3.7/dist-packages (from genice2>=2.1b0->genice2-meshcat==2.1) (0.1.2)\n",
            "Requirement already satisfied: ipython>=5 in /usr/local/lib/python3.7/dist-packages (from meshcat@ git+https://github.com/RussTedrake/meshcat-python@colab->genice2-meshcat==2.1) (5.5.0)\n",
            "Requirement already satisfied: pyzmq>=17.0.0 in /usr/local/lib/python3.7/dist-packages (from meshcat@ git+https://github.com/RussTedrake/meshcat-python@colab->genice2-meshcat==2.1) (22.0.3)\n",
            "Requirement already satisfied: tornado>=4.0.0 in /usr/local/lib/python3.7/dist-packages (from meshcat@ git+https://github.com/RussTedrake/meshcat-python@colab->genice2-meshcat==2.1) (5.1.1)\n",
            "Requirement already satisfied: pyngrok>=4.1.6 in /usr/local/lib/python3.7/dist-packages (from meshcat@ git+https://github.com/RussTedrake/meshcat-python@colab->genice2-meshcat==2.1) (5.0.5)\n",
            "Requirement already satisfied: decorator>=4.3.0 in /usr/local/lib/python3.7/dist-packages (from networkx>=2->genice2>=2.1b0->genice2-meshcat==2.1) (4.4.2)\n",
            "Requirement already satisfied: methodtools in /usr/local/lib/python3.7/dist-packages (from cycless->genice2>=2.1b0->genice2-meshcat==2.1) (0.4.2)\n",
            "Requirement already satisfied: six<2.0.0,>=1.14.0 in /usr/local/lib/python3.7/dist-packages (from openpyscad->genice2>=2.1b0->genice2-meshcat==2.1) (1.15.0)\n",
            "Requirement already satisfied: pickleshare in /usr/local/lib/python3.7/dist-packages (from ipython>=5->meshcat@ git+https://github.com/RussTedrake/meshcat-python@colab->genice2-meshcat==2.1) (0.7.5)\n",
            "Requirement already satisfied: pygments in /usr/local/lib/python3.7/dist-packages (from ipython>=5->meshcat@ git+https://github.com/RussTedrake/meshcat-python@colab->genice2-meshcat==2.1) (2.6.1)\n",
            "Requirement already satisfied: pexpect; sys_platform != \"win32\" in /usr/local/lib/python3.7/dist-packages (from ipython>=5->meshcat@ git+https://github.com/RussTedrake/meshcat-python@colab->genice2-meshcat==2.1) (4.8.0)\n",
            "Requirement already satisfied: prompt-toolkit<2.0.0,>=1.0.4 in /usr/local/lib/python3.7/dist-packages (from ipython>=5->meshcat@ git+https://github.com/RussTedrake/meshcat-python@colab->genice2-meshcat==2.1) (1.0.18)\n",
            "Requirement already satisfied: setuptools>=18.5 in /usr/local/lib/python3.7/dist-packages (from ipython>=5->meshcat@ git+https://github.com/RussTedrake/meshcat-python@colab->genice2-meshcat==2.1) (54.1.2)\n",
            "Requirement already satisfied: traitlets>=4.2 in /usr/local/lib/python3.7/dist-packages (from ipython>=5->meshcat@ git+https://github.com/RussTedrake/meshcat-python@colab->genice2-meshcat==2.1) (5.0.5)\n",
            "Requirement already satisfied: simplegeneric>0.8 in /usr/local/lib/python3.7/dist-packages (from ipython>=5->meshcat@ git+https://github.com/RussTedrake/meshcat-python@colab->genice2-meshcat==2.1) (0.8.1)\n",
            "Requirement already satisfied: PyYAML in /usr/local/lib/python3.7/dist-packages (from pyngrok>=4.1.6->meshcat@ git+https://github.com/RussTedrake/meshcat-python@colab->genice2-meshcat==2.1) (3.13)\n",
            "Requirement already satisfied: wirerope>=0.4.2 in /usr/local/lib/python3.7/dist-packages (from methodtools->cycless->genice2>=2.1b0->genice2-meshcat==2.1) (0.4.2)\n",
            "Requirement already satisfied: ptyprocess>=0.5 in /usr/local/lib/python3.7/dist-packages (from pexpect; sys_platform != \"win32\"->ipython>=5->meshcat@ git+https://github.com/RussTedrake/meshcat-python@colab->genice2-meshcat==2.1) (0.7.0)\n",
            "Requirement already satisfied: wcwidth in /usr/local/lib/python3.7/dist-packages (from prompt-toolkit<2.0.0,>=1.0.4->ipython>=5->meshcat@ git+https://github.com/RussTedrake/meshcat-python@colab->genice2-meshcat==2.1) (0.2.5)\n",
            "Requirement already satisfied: ipython-genutils in /usr/local/lib/python3.7/dist-packages (from traitlets>=4.2->ipython>=5->meshcat@ git+https://github.com/RussTedrake/meshcat-python@colab->genice2-meshcat==2.1) (0.2.0)\n",
            "Building wheels for collected packages: genice2-meshcat\n",
            "  Building wheel for genice2-meshcat (setup.py) ... \u001b[?25l\u001b[?25hdone\n",
            "  Created wheel for genice2-meshcat: filename=genice2_meshcat-2.1-cp37-none-any.whl size=4437 sha256=1e52323ceef3db1f9cb6c5e78ed47fd0dfd0086910d25269c883f0ec6608cdff\n",
            "  Stored in directory: /tmp/pip-ephem-wheel-cache-y_wad4k4/wheels/90/99/f9/e43d5c266578a9f5fa4d3a9eedb2de5f470b408de0ae12d487\n",
            "Successfully built genice2-meshcat\n"
          ],
          "name": "stdout"
        }
      ]
    },
    {
      "cell_type": "code",
      "metadata": {
        "colab": {
          "base_uri": "https://localhost:8080/"
        },
        "id": "V10BLudFogY7",
        "outputId": "7e744c4f-c4a3-4c3f-aa5f-8bd56252ac63"
      },
      "source": [
        "from genice2.genice import GenIce\n",
        "from genice2.plugin import Lattice, Format, Molecule\n",
        "\n",
        "lattice    = Lattice(\"xFAU\", rep=3) \n",
        "formatter  = Format(\"meshcat\")\n",
        "water      = Molecule(\"spce\")\n",
        "raw = GenIce(lattice, signature=\"Aeroice 3xFAU\").generate_ice(water, formatter)\n",
        "\n",
        "# For now, meshcat is not available on Google Colab."
      ],
      "execution_count": 1,
      "outputs": [
        {
          "output_type": "stream",
          "text": [
            "You can open the visualizer by visiting the following URL:\n",
            "http://127.0.0.1:7000/static/\n"
          ],
          "name": "stdout"
        }
      ]
    },
    {
      "cell_type": "code",
      "metadata": {
        "id": "fnyePlwGwhVH"
      },
      "source": [
        ""
      ],
      "execution_count": null,
      "outputs": []
    }
  ]
}