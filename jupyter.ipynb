{
 "cells": [
  {
   "cell_type": "markdown",
   "metadata": {
    "colab_type": "text",
    "id": "view-in-github"
   },
   "source": [
    "<a href=\"https://colab.research.google.com/github/vitroid/genice-meshcat/blob/main/jupyter.ipynb\" target=\"_parent\"><img src=\"https://colab.research.google.com/assets/colab-badge.svg\" alt=\"Open In Colab\"/></a>"
   ]
  },
  {
   "cell_type": "code",
   "execution_count": 2,
   "metadata": {
    "colab": {
     "base_uri": "https://localhost:8080/"
    },
    "id": "N7XHy_u4odaP",
    "outputId": "8c514ee5-525e-461c-8e4a-2f202e6b9760"
   },
   "outputs": [
    {
     "name": "stdout",
     "output_type": "stream",
     "text": [
      "Collecting git+https://github.com/vitroid/genice-meshcat.git\n",
      "  Cloning https://github.com/vitroid/genice-meshcat.git to /tmp/pip-req-build-jtqz1t8_\n",
      "  Running command git clone -q https://github.com/vitroid/genice-meshcat.git /tmp/pip-req-build-jtqz1t8_\n",
      "Collecting genice2\n",
      "\u001b[?25l  Downloading https://files.pythonhosted.org/packages/98/13/a8dbe8a6f1833e50e45668fd6677882903fc6a64740b22b5b9f4eac71804/GenIce2-2.1b3.tar.gz (694kB)\n",
      "\u001b[K     |████████████████████████████████| 696kB 6.8MB/s \n",
      "\u001b[?25hCollecting u-msgpack-python\n",
      "  Downloading https://files.pythonhosted.org/packages/a3/54/0400a3a22ff133633d343371821bf81010455fa3a981a93d7ff3e27a554e/u_msgpack_python-2.7.1-py2.py3-none-any.whl\n",
      "Requirement already satisfied: networkx>=2 in /usr/local/lib/python3.7/dist-packages (from genice2->genice2-meshcat==0.1) (2.5)\n",
      "Collecting cycless\n",
      "  Downloading https://files.pythonhosted.org/packages/3f/21/cfd53149cc03cacfb9485e0d113091a8bf613526e5eb775b74732db3b7e4/cycless-0.1.4-py2.py3-none-any.whl\n",
      "Collecting pairlist>=0.2.11.1\n",
      "  Downloading https://files.pythonhosted.org/packages/5a/75/8edea732c97737fc59363026a2a6f23936b227e13612505120a135f1792d/PairList-0.2.11.1.tar.gz\n",
      "Collecting yaplotlib>=0.1\n",
      "  Downloading https://files.pythonhosted.org/packages/00/61/9939682d23a1384a2f0fd54e3e7c9d3397846bff203eff8f0716229fbc4f/yaplotlib-0.1.2-py2.py3-none-any.whl\n",
      "Requirement already satisfied: numpy in /usr/local/lib/python3.7/dist-packages (from genice2->genice2-meshcat==0.1) (1.19.5)\n",
      "Requirement already satisfied: wheel in /usr/local/lib/python3.7/dist-packages (from genice2->genice2-meshcat==0.1) (0.36.2)\n",
      "Collecting openpyscad\n",
      "  Downloading https://files.pythonhosted.org/packages/18/7a/ded2e0274762842e7fdffe62229cdaaa8102a35c793a44727b7900db159c/openpyscad-0.4.0-py3-none-any.whl\n",
      "Collecting graphstat\n",
      "  Downloading https://files.pythonhosted.org/packages/1b/d2/28744fa6f3fd0f06f3a43eb040592df196fa605bfd14631546673ef2096f/graphstat-0.2.1-py2.py3-none-any.whl\n",
      "Requirement already satisfied: decorator>=4.3.0 in /usr/local/lib/python3.7/dist-packages (from networkx>=2->genice2->genice2-meshcat==0.1) (4.4.2)\n",
      "Collecting methodtools\n",
      "  Downloading https://files.pythonhosted.org/packages/cf/08/b0557009f7b0e8038a7982fa13fd87ea94b8b8c32e6026eb3a0bbaa03ae8/methodtools-0.4.2.tar.gz\n",
      "Requirement already satisfied: six<2.0.0,>=1.14.0 in /usr/local/lib/python3.7/dist-packages (from openpyscad->genice2->genice2-meshcat==0.1) (1.15.0)\n",
      "Collecting wirerope>=0.4.2\n",
      "  Downloading https://files.pythonhosted.org/packages/9d/dd/05bf03320c45e8831c3b88388a9457205939d5e9a802fc6f1252ea0c9a7f/wirerope-0.4.2.tar.gz\n",
      "Building wheels for collected packages: genice2-meshcat, genice2, pairlist, methodtools, wirerope\n",
      "  Building wheel for genice2-meshcat (setup.py) ... \u001b[?25l\u001b[?25hdone\n",
      "  Created wheel for genice2-meshcat: filename=genice2_meshcat-0.1-cp37-none-any.whl size=4405 sha256=f1f9262b6ff0a7d1e0f74ec8f3c007169f5d8c4917cf4e6c282c4c618a66d9ac\n",
      "  Stored in directory: /tmp/pip-ephem-wheel-cache-acky_237/wheels/90/99/f9/e43d5c266578a9f5fa4d3a9eedb2de5f470b408de0ae12d487\n",
      "  Building wheel for genice2 (setup.py) ... \u001b[?25l\u001b[?25hdone\n",
      "  Created wheel for genice2: filename=GenIce2-2.1b3-py2.py3-none-any.whl size=836944 sha256=9dfc020a732aa42afde96fb9d8383e4d8b7d79c46ebb46e6df2b964d82efd235\n",
      "  Stored in directory: /root/.cache/pip/wheels/b2/c4/db/0ae48f964fbb8179e85be5292912d1a491f8f35f5560d1d1a5\n",
      "  Building wheel for pairlist (setup.py) ... \u001b[?25l\u001b[?25hdone\n",
      "  Created wheel for pairlist: filename=PairList-0.2.11.1-cp37-cp37m-linux_x86_64.whl size=35270 sha256=a6e887a5649b220635b48ff823641283a216de891d8ee02658afa93c0ccbfe4b\n",
      "  Stored in directory: /root/.cache/pip/wheels/74/20/2f/64c940bb1f1046f7859faad73d7ea02597b5f224153795e2d1\n",
      "  Building wheel for methodtools (setup.py) ... \u001b[?25l\u001b[?25hdone\n",
      "  Created wheel for methodtools: filename=methodtools-0.4.2-cp37-none-any.whl size=2986 sha256=925404c67d43cef0b8757a3c756bb913bba42092b471382400bec4d26320c3a1\n",
      "  Stored in directory: /root/.cache/pip/wheels/94/6a/63/a364e72d0abc8869f68b3fd19d701b428b9a0d2579d06f78ae\n",
      "  Building wheel for wirerope (setup.py) ... \u001b[?25l\u001b[?25hdone\n",
      "  Created wheel for wirerope: filename=wirerope-0.4.2-cp37-none-any.whl size=8749 sha256=099393c928544be0c3693ffe0e935ac405a758bb36a3f8a3ff0ae51c02bdee6f\n",
      "  Stored in directory: /root/.cache/pip/wheels/0f/96/85/60a4f8d39c55f2f54dc322249a1ba526aae558a007b224e053\n",
      "Successfully built genice2-meshcat genice2 pairlist methodtools wirerope\n",
      "Installing collected packages: wirerope, methodtools, cycless, pairlist, yaplotlib, openpyscad, graphstat, genice2, u-msgpack-python, genice2-meshcat\n",
      "Successfully installed cycless-0.1.4 genice2-2.1b3 genice2-meshcat-0.1 graphstat-0.2.1 methodtools-0.4.2 openpyscad-0.4.0 pairlist-0.2.11.1 u-msgpack-python-2.7.1 wirerope-0.4.2 yaplotlib-0.1.2\n"
     ]
    }
   ],
   "source": [
    "! pip install git+https://github.com/vitroid/genice-meshcat.git"
   ]
  },
  {
   "cell_type": "code",
   "execution_count": 3,
   "metadata": {
    "scrolled": true
   },
   "outputs": [
    {
     "name": "stdout",
     "output_type": "stream",
     "text": [
      "Collecting git+https://github.com/RussTedrake/meshcat-python@colab\n",
      "  Cloning https://github.com/RussTedrake/meshcat-python (to revision colab) to /private/var/folders/g2/t_qwkbf48xj4860059bm17mh0000gs/T/pip-req-build-t9t03fk8\n",
      "  Running command git clone -q https://github.com/RussTedrake/meshcat-python /private/var/folders/g2/t_qwkbf48xj4860059bm17mh0000gs/T/pip-req-build-t9t03fk8\n",
      "  Running command git checkout -b colab --track origin/colab\n",
      "  Switched to a new branch 'colab'\n",
      "  Branch 'colab' set up to track remote branch 'colab' from 'origin'.\n",
      "  Running command git submodule update --init --recursive -q\n",
      "Requirement already satisfied: ipython>=5 in /Users/matto/venvs/genice2arm3/lib/python3.9/site-packages (from meshcat==0.0.18) (7.21.0)\n",
      "Requirement already satisfied: u-msgpack-python>=2.4.1 in /Users/matto/venvs/genice2arm3/lib/python3.9/site-packages/u_msgpack_python-2.7.1-py3.9.egg (from meshcat==0.0.18) (2.7.1)\n",
      "Requirement already satisfied: numpy>=1.14.0 in /Users/matto/Dropbox/gitbox/PairList/.eggs/numpy-1.20.1-py3.9-macosx-11-arm64.egg (from meshcat==0.0.18) (1.20.1)\n",
      "Requirement already satisfied: tornado>=4.0.0 in /Users/matto/venvs/genice2arm3/lib/python3.9/site-packages (from meshcat==0.0.18) (6.1)\n",
      "Requirement already satisfied: pyzmq>=17.0.0 in /Users/matto/venvs/genice2arm3/lib/python3.9/site-packages (from meshcat==0.0.18) (22.0.3)\n",
      "Requirement already satisfied: pyngrok>=4.1.6 in /Users/matto/venvs/genice2arm3/lib/python3.9/site-packages/pyngrok-5.0.5-py3.9.egg (from meshcat==0.0.18) (5.0.5)\n",
      "Requirement already satisfied: decorator in /Users/matto/venvs/genice2arm3/lib/python3.9/site-packages/decorator-4.4.2-py3.9.egg (from ipython>=5->meshcat==0.0.18) (4.4.2)\n",
      "Requirement already satisfied: pexpect>4.3 in /Users/matto/venvs/genice2arm3/lib/python3.9/site-packages (from ipython>=5->meshcat==0.0.18) (4.8.0)\n",
      "Requirement already satisfied: setuptools>=18.5 in /Users/matto/venvs/genice2arm3/lib/python3.9/site-packages (from ipython>=5->meshcat==0.0.18) (53.0.0)\n",
      "Requirement already satisfied: backcall in /Users/matto/venvs/genice2arm3/lib/python3.9/site-packages (from ipython>=5->meshcat==0.0.18) (0.2.0)\n",
      "Requirement already satisfied: traitlets>=4.2 in /Users/matto/venvs/genice2arm3/lib/python3.9/site-packages (from ipython>=5->meshcat==0.0.18) (5.0.5)\n",
      "Requirement already satisfied: pygments in /Users/matto/venvs/genice2arm3/lib/python3.9/site-packages (from ipython>=5->meshcat==0.0.18) (2.8.1)\n",
      "Requirement already satisfied: appnope in /Users/matto/venvs/genice2arm3/lib/python3.9/site-packages (from ipython>=5->meshcat==0.0.18) (0.1.2)\n",
      "Requirement already satisfied: jedi>=0.16 in /Users/matto/venvs/genice2arm3/lib/python3.9/site-packages (from ipython>=5->meshcat==0.0.18) (0.18.0)\n",
      "Requirement already satisfied: pickleshare in /Users/matto/venvs/genice2arm3/lib/python3.9/site-packages (from ipython>=5->meshcat==0.0.18) (0.7.5)\n",
      "Requirement already satisfied: prompt-toolkit!=3.0.0,!=3.0.1,<3.1.0,>=2.0.0 in /Users/matto/venvs/genice2arm3/lib/python3.9/site-packages (from ipython>=5->meshcat==0.0.18) (3.0.18)\n",
      "Requirement already satisfied: parso<0.9.0,>=0.8.0 in /Users/matto/venvs/genice2arm3/lib/python3.9/site-packages (from jedi>=0.16->ipython>=5->meshcat==0.0.18) (0.8.1)\n",
      "Requirement already satisfied: ptyprocess>=0.5 in /Users/matto/venvs/genice2arm3/lib/python3.9/site-packages (from pexpect>4.3->ipython>=5->meshcat==0.0.18) (0.7.0)\n",
      "Requirement already satisfied: wcwidth in /Users/matto/venvs/genice2arm3/lib/python3.9/site-packages (from prompt-toolkit!=3.0.0,!=3.0.1,<3.1.0,>=2.0.0->ipython>=5->meshcat==0.0.18) (0.2.5)\n",
      "Requirement already satisfied: PyYAML in /Users/matto/venvs/genice2arm3/lib/python3.9/site-packages/PyYAML-5.4.1-py3.9-macosx-11-arm64.egg (from pyngrok>=4.1.6->meshcat==0.0.18) (5.4.1)\n",
      "Requirement already satisfied: ipython-genutils in /Users/matto/venvs/genice2arm3/lib/python3.9/site-packages (from traitlets>=4.2->ipython>=5->meshcat==0.0.18) (0.2.0)\n",
      "Requirement already satisfied: u-msgpack-python in /Users/matto/venvs/genice2arm3/lib/python3.9/site-packages/u_msgpack_python-2.7.1-py3.9.egg (2.7.1)\n"
     ]
    }
   ],
   "source": [
    "!pip3 install git+https://github.com/RussTedrake/meshcat-python@colab\n",
    "!pip3 install u-msgpack-python\n"
   ]
  },
  {
   "cell_type": "code",
   "execution_count": 6,
   "metadata": {
    "colab": {
     "base_uri": "https://localhost:8080/",
     "height": 162
    },
    "id": "V10BLudFogY7",
    "outputId": "291e4094-3458-4f1f-b67d-d031d0876706"
   },
   "outputs": [
    {
     "name": "stdout",
     "output_type": "stream",
     "text": [
      "You can open the visualizer by visiting the following URL:\n",
      "http://127.0.0.1:7000/static/\n"
     ]
    }
   ],
   "source": [
    "from genice2.genice import GenIce\n",
    "from genice2.plugin import Lattice, Format, Molecule\n",
    "\n",
    "lattice    = Lattice(\"xFAU\", rep=3) \n",
    "formatter  = Format(\"meshcat\")\n",
    "water      = Molecule(\"spce\")\n",
    "raw = GenIce(lattice, signature=\"Aeroice 3xFAU\").generate_ice(water, formatter)\n"
   ]
  },
  {
   "cell_type": "code",
   "execution_count": null,
   "metadata": {
    "id": "MsPuGxxxo5i7"
   },
   "outputs": [],
   "source": []
  }
 ],
 "metadata": {
  "colab": {
   "authorship_tag": "ABX9TyMynJPCBRQtXdpvK6BldTPe",
   "include_colab_link": true,
   "name": "jupyter.ipynb",
   "provenance": []
  },
  "kernelspec": {
   "display_name": "Python 3",
   "language": "python",
   "name": "python3"
  },
  "language_info": {
   "codemirror_mode": {
    "name": "ipython",
    "version": 3
   },
   "file_extension": ".py",
   "mimetype": "text/x-python",
   "name": "python",
   "nbconvert_exporter": "python",
   "pygments_lexer": "ipython3",
   "version": "3.9.2"
  }
 },
 "nbformat": 4,
 "nbformat_minor": 1
}
